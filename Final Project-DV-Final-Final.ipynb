{
 "cells": [
  {
   "cell_type": "code",
   "execution_count": 1,
   "id": "8091e849",
   "metadata": {},
   "outputs": [],
   "source": [
    "import pandas as pd\n",
    "import os"
   ]
  },
  {
   "cell_type": "code",
   "execution_count": 2,
   "id": "3c9b5395",
   "metadata": {
    "scrolled": false
   },
   "outputs": [
    {
     "name": "stderr",
     "output_type": "stream",
     "text": [
      "/Users/benjaminshelburn/opt/anaconda3/lib/python3.8/site-packages/IPython/core/interactiveshell.py:3165: DtypeWarning: Columns (3) have mixed types.Specify dtype option on import or set low_memory=False.\n",
      "  has_raised = await self.run_ast_nodes(code_ast.body, cell_name,\n"
     ]
    }
   ],
   "source": [
    "# 1. Create a DataFrame Covid data(full csv). \n",
    "data_df = pd.read_csv('/Users/benjaminshelburn/Desktop/Classwork/Final Project/COVID-19_Case_Surveillance_Public_Use_Data_with_Geography.csv')"
   ]
  },
  {
   "cell_type": "code",
   "execution_count": 3,
   "id": "860dd71f",
   "metadata": {},
   "outputs": [],
   "source": [
    "#Random sample\n",
    "data_df = data_df.sample(n=1000000)"
   ]
  },
  {
   "cell_type": "code",
   "execution_count": null,
   "id": "a774f4eb",
   "metadata": {},
   "outputs": [],
   "source": [
    "# Columns to drop\n",
    "data_df = data_df.drop(['state_fips_code'], axis=1)\n",
    "data_df = data_df.drop(['county_fips_code'], axis=1)\n",
    "data_df = data_df.drop(['case_positive_specimen_interval'], axis=1)\n",
    "data_df = data_df.drop(['current_status'], axis=1)\n",
    "data_df = data_df.drop(['case_onset_interval'], axis=1)\n",
    "data_df = data_df.drop(['ethnicity'], axis=1)\n",
    "data_df = data_df.drop(['process'], axis=1)\n",
    "data_df = data_df.drop(['res_county'], axis=1)"
   ]
  },
  {
   "cell_type": "code",
   "execution_count": null,
   "id": "42c05d86",
   "metadata": {},
   "outputs": [],
   "source": [
    "data_df.to_csv(r'/Users/benjaminshelburn/Desktop/Classwork/Final Project/finaldata/DataVisCleanData.csv', index = True)"
   ]
  },
  {
   "cell_type": "code",
   "execution_count": null,
   "id": "d678a0e0",
   "metadata": {},
   "outputs": [],
   "source": [
    "data_df.count()"
   ]
  },
  {
   "cell_type": "code",
   "execution_count": null,
   "id": "aca758fc",
   "metadata": {},
   "outputs": [],
   "source": []
  }
 ],
 "metadata": {
  "kernelspec": {
   "display_name": "PythonData",
   "language": "python",
   "name": "pythondata"
  },
  "language_info": {
   "codemirror_mode": {
    "name": "ipython",
    "version": 3
   },
   "file_extension": ".py",
   "mimetype": "text/x-python",
   "name": "python",
   "nbconvert_exporter": "python",
   "pygments_lexer": "ipython3",
   "version": "3.8.8"
  }
 },
 "nbformat": 4,
 "nbformat_minor": 5
}
