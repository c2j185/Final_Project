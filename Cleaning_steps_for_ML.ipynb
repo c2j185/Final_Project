{
 "cells": [
  {
   "cell_type": "markdown",
   "id": "c24a60d5",
   "metadata": {},
   "source": [
    "# Cleaning Steps for ML"
   ]
  },
  {
   "cell_type": "code",
   "execution_count": null,
   "id": "861997e3",
   "metadata": {},
   "outputs": [],
   "source": [
    "import pandas as pd\n",
    "from sklearn.preprocessing import LabelEncoder\n",
    "from sklearn.preprocessing import StandardScaler, MinMaxScaler\n",
    "from sklearn.linear_model import LogisticRegression\n",
    "from sklearn.model_selection import train_test_split\n",
    "from sklearn.metrics import confusion_matrix, accuracy_score, classification_report"
   ]
  },
  {
   "cell_type": "code",
   "execution_count": null,
   "id": "387ff847",
   "metadata": {
    "scrolled": true
   },
   "outputs": [],
   "source": [
    "file = \"COVID-19_Case_Surveillance_2021-11-21.csv\"\n",
    "full_results_df1 = pd.read_csv(file)\n",
    "full_results_df1"
   ]
  },
  {
   "cell_type": "code",
   "execution_count": null,
   "id": "f79e0be1",
   "metadata": {},
   "outputs": [],
   "source": [
    "# Remove unnecessary columns\n",
    "full_results_df2 = full_results_df1.drop(['case_month'], axis=1)\n",
    "full_results_df2 = full_results_df2.drop(['state_fips_code'], axis=1)\n",
    "full_results_df2 = full_results_df2.drop(['res_county'], axis=1)\n",
    "full_results_df2 = full_results_df2.drop(['county_fips_code'], axis=1)\n",
    "full_results_df2 = full_results_df2.drop(['ethnicity'], axis=1)\n",
    "full_results_df2 = full_results_df2.drop(['process'], axis=1)\n",
    "full_results_df2 = full_results_df2.drop(['case_positive_specimen_interval'], axis=1)\n",
    "full_results_df2 = full_results_df2.drop(['case_onset_interval'], axis=1)\n",
    "full_results_df2 = full_results_df2.drop(['current_status'], axis=1)\n",
    "full_results_df2"
   ]
  },
  {
   "cell_type": "code",
   "execution_count": null,
   "id": "852e524c",
   "metadata": {},
   "outputs": [],
   "source": [
    "# Remove any rows with null values\n",
    "full_results_df2 = full_results_df2.dropna(how='any')\n",
    "full_results_df2"
   ]
  },
  {
   "cell_type": "code",
   "execution_count": null,
   "id": "68c94d29",
   "metadata": {
    "scrolled": true
   },
   "outputs": [],
   "source": [
    "# Remove \"Unknown, nul, NA, Missing\" values\n",
    "full_results_df3 = full_results_df2.copy()\n",
    "full_results_df3 = full_results_df2.loc[full_results_df2['age_group']!='Missing',:]\n",
    "full_results_df3 = full_results_df3.loc[full_results_df3['age_group']!='NA',:]\n",
    "full_results_df3 = full_results_df3.loc[full_results_df3['sex']!='Missing',:]\n",
    "full_results_df3 = full_results_df3.loc[full_results_df3['sex']!='NA',:]\n",
    "full_results_df3 = full_results_df3.loc[full_results_df3['sex']!='Unknown',:]\n",
    "full_results_df3 = full_results_df3.loc[full_results_df3['race']!='Missing',:]\n",
    "full_results_df3 = full_results_df3.loc[full_results_df3['race']!='NA',:]\n",
    "full_results_df3 = full_results_df3.loc[full_results_df3['race']!='Unknown',:]\n",
    "full_results_df3 = full_results_df3.loc[full_results_df3['exposure_yn']!='Missing',:]\n",
    "full_results_df3 = full_results_df3.loc[full_results_df3['exposure_yn']!='Unknown',:]\n",
    "full_results_df3 = full_results_df3.loc[full_results_df3['exposure_yn']!='Unknown',:]\n",
    "full_results_df3 = full_results_df3.loc[full_results_df3['symptom_status']!='Missing',:]\n",
    "full_results_df3 = full_results_df3.loc[full_results_df3['symptom_status']!='nul',:]\n",
    "full_results_df3 = full_results_df3.loc[full_results_df3['symptom_status']!='Unknown',:]\n",
    "full_results_df3 = full_results_df3.loc[full_results_df3['hosp_yn']!='Missing',:]\n",
    "full_results_df3 = full_results_df3.loc[full_results_df3['hosp_yn']!='Unknown',:]\n",
    "full_results_df3 = full_results_df3.loc[full_results_df3['icu_yn']!='Missing',:]\n",
    "full_results_df3 = full_results_df3.loc[full_results_df3['icu_yn']!='nul',:]\n",
    "full_results_df3 = full_results_df3.loc[full_results_df3['icu_yn']!='Unknown',:]\n",
    "full_results_df3 = full_results_df3.loc[full_results_df3['death_yn']!='Missing',:]\n",
    "full_results_df3 = full_results_df3.loc[full_results_df3['death_yn']!='NA',:]\n",
    "full_results_df3 = full_results_df3.loc[full_results_df3['death_yn']!='Unknown',:]\n",
    "full_results_df3"
   ]
  },
  {
   "cell_type": "code",
   "execution_count": null,
   "id": "c210bd6d",
   "metadata": {
    "scrolled": true
   },
   "outputs": [],
   "source": [
    "# Does the exposure column only have \"Yes?\", then drop\n",
    "\n",
    "exposure_counts = full_results_df3.exposure_yn.value_counts()\n",
    "print(exposure_counts)\n",
    "\n",
    "full_results_df3 = full_results_df3.drop(['exposure_yn'], axis=1)"
   ]
  },
  {
   "cell_type": "code",
   "execution_count": null,
   "id": "f8c176d3",
   "metadata": {
    "scrolled": true
   },
   "outputs": [],
   "source": [
    "# Make a copy of the df with the empty column \"outcome\"\n",
    "results_df = full_results_df3.copy()\n",
    "\n",
    "results_df[\"outcome\"]=\"\"\n",
    "results_df"
   ]
  }
 ],
 "metadata": {
  "kernelspec": {
   "display_name": "mlenv",
   "language": "python",
   "name": "mlenv"
  },
  "language_info": {
   "codemirror_mode": {
    "name": "ipython",
    "version": 3
   },
   "file_extension": ".py",
   "mimetype": "text/x-python",
   "name": "python",
   "nbconvert_exporter": "python",
   "pygments_lexer": "ipython3",
   "version": "3.7.10"
  }
 },
 "nbformat": 4,
 "nbformat_minor": 5
}
